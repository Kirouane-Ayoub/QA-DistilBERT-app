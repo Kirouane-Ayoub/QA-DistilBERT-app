{
  "nbformat": 4,
  "nbformat_minor": 0,
  "metadata": {
    "colab": {
      "provenance": []
    },
    "kernelspec": {
      "name": "python3",
      "display_name": "Python 3"
    },
    "language_info": {
      "name": "python"
    }
  },
  "cells": [
    {
      "cell_type": "code",
      "execution_count": null,
      "metadata": {
        "id": "-sGDEG27XA-L"
      },
      "outputs": [],
      "source": [
        "!pip install gradio transformers"
      ]
    },
    {
      "cell_type": "code",
      "source": [
        "import gradio as gr\n",
        "from transformers import pipeline\n",
        "\n",
        "# Load the question answering pipeline with your fine-tuned model\n",
        "qa_pipe = pipeline(\"question-answering\", model=\"ayoubkirouane/QA-DistilBERT-base-squad\")\n",
        "\n",
        "def answer_question(context, question):\n",
        "    result = qa_pipe(question=question, context=context)\n",
        "    return result['answer']\n",
        "\n",
        "# Create a Gradio interface\n",
        "iface = gr.Interface(\n",
        "    fn=answer_question,\n",
        "    inputs=[\"text\", \"text\"],\n",
        "    outputs=\"text\",\n",
        "    title=\"Question Answering with QA-DistilBERT-base-squad\",\n",
        "    description=\"Provide a context and a question to get an answer.\",\n",
        ")\n",
        "\n",
        "# Launch the Gradio app\n",
        "iface.launch(share=True)"
      ],
      "metadata": {
        "id": "2tVf3W6VXCG0"
      },
      "execution_count": null,
      "outputs": []
    }
  ]
}